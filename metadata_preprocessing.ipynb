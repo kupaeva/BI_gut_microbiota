{
  "nbformat": 4,
  "nbformat_minor": 0,
  "metadata": {
    "colab": {
      "name": "onko.ipynb",
      "provenance": [],
      "collapsed_sections": [
        "QoyugJzGFNBE",
        "q8r_HnRvZs7q",
        "CO_h7lhFelRt",
        "SyJSj4MPsY93"
      ]
    },
    "kernelspec": {
      "display_name": "Python 3",
      "name": "python3"
    },
    "language_info": {
      "name": "python"
    }
  },
  "cells": [
    {
      "cell_type": "markdown",
      "metadata": {
        "id": "QoyugJzGFNBE"
      },
      "source": [
        "# Metadata Preprocessing "
      ]
    },
    {
      "cell_type": "code",
      "metadata": {
        "id": "g2WXUclu6V0F"
      },
      "source": [
        "import pandas as pd\n",
        "import numpy as np\n",
        "import seaborn as sns\n",
        "import matplotlib.pyplot as plt"
      ],
      "execution_count": 37,
      "outputs": []
    },
    {
      "cell_type": "code",
      "metadata": {
        "colab": {
          "base_uri": "https://localhost:8080/"
        },
        "id": "4YE_MNuFiGpG",
        "outputId": "2412e1bc-e15d-4021-f4ce-6dd2f53e1f02"
      },
      "source": [
        "from google.colab import drive\n",
        "drive.mount('/content/drive')"
      ],
      "execution_count": 2,
      "outputs": [
        {
          "output_type": "stream",
          "text": [
            "Mounted at /content/drive\n"
          ],
          "name": "stdout"
        }
      ]
    },
    {
      "cell_type": "code",
      "metadata": {
        "id": "9OIhYSnx7qOR"
      },
      "source": [
        "samples = pd.read_excel('/content/drive/MyDrive/onko/final_karina.xlsx')"
      ],
      "execution_count": 3,
      "outputs": []
    },
    {
      "cell_type": "code",
      "metadata": {
        "colab": {
          "base_uri": "https://localhost:8080/"
        },
        "id": "Eu6Za4NBRZQx",
        "outputId": "55310502-838c-429a-f9e1-8fdc0c27e744"
      },
      "source": [
        "samples['Номер 16s']"
      ],
      "execution_count": 4,
      "outputs": [
        {
          "output_type": "execute_result",
          "data": {
            "text/plain": [
              "0     34\n",
              "1     15\n",
              "2     16\n",
              "3     35\n",
              "4     63\n",
              "      ..\n",
              "65    67\n",
              "66    44\n",
              "67    45\n",
              "68    71\n",
              "69    43\n",
              "Name: Номер 16s, Length: 70, dtype: int64"
            ]
          },
          "metadata": {
            "tags": []
          },
          "execution_count": 4
        }
      ]
    },
    {
      "cell_type": "code",
      "metadata": {
        "id": "mZHw_2hT7qSk"
      },
      "source": [
        "files = pd.read_csv('/content/drive/MyDrive/onko/files.txt')\n",
        "files.columns = ['filename']"
      ],
      "execution_count": 5,
      "outputs": []
    },
    {
      "cell_type": "code",
      "metadata": {
        "id": "e8Lnh23d7qVF"
      },
      "source": [
        "temp_data = files.filename.str.split('_',expand=True)"
      ],
      "execution_count": 6,
      "outputs": []
    },
    {
      "cell_type": "code",
      "metadata": {
        "id": "KRlcOz0o7qXT"
      },
      "source": [
        "files['filename_part1'] = temp_data[0]\n",
        "files['filename_part2'] = temp_data[1]\n",
        "files['filename_part3'] = temp_data[3]\n",
        "files['filename_part2'] = files.filename_part2.str.split('S',expand=True)[1]\n",
        "files['filename_part2'] = files['filename_part2'].astype('int64')\n",
        "files = files[files['filename_part3'] == 'R1']"
      ],
      "execution_count": 7,
      "outputs": []
    },
    {
      "cell_type": "code",
      "metadata": {
        "colab": {
          "base_uri": "https://localhost:8080/",
          "height": 424
        },
        "id": "U3QeCOmFZ0SV",
        "outputId": "f5435eb0-eff0-481e-8db3-a2745cf765dc"
      },
      "source": [
        "files"
      ],
      "execution_count": 8,
      "outputs": [
        {
          "output_type": "execute_result",
          "data": {
            "text/html": [
              "<div>\n",
              "<style scoped>\n",
              "    .dataframe tbody tr th:only-of-type {\n",
              "        vertical-align: middle;\n",
              "    }\n",
              "\n",
              "    .dataframe tbody tr th {\n",
              "        vertical-align: top;\n",
              "    }\n",
              "\n",
              "    .dataframe thead th {\n",
              "        text-align: right;\n",
              "    }\n",
              "</style>\n",
              "<table border=\"1\" class=\"dataframe\">\n",
              "  <thead>\n",
              "    <tr style=\"text-align: right;\">\n",
              "      <th></th>\n",
              "      <th>filename</th>\n",
              "      <th>filename_part1</th>\n",
              "      <th>filename_part2</th>\n",
              "      <th>filename_part3</th>\n",
              "    </tr>\n",
              "  </thead>\n",
              "  <tbody>\n",
              "    <tr>\n",
              "      <th>0</th>\n",
              "      <td>10b_S23_L001_R1_001.fastq.gz</td>\n",
              "      <td>10b</td>\n",
              "      <td>23</td>\n",
              "      <td>R1</td>\n",
              "    </tr>\n",
              "    <tr>\n",
              "      <th>2</th>\n",
              "      <td>11b_S24_L001_R1_001.fastq.gz</td>\n",
              "      <td>11b</td>\n",
              "      <td>24</td>\n",
              "      <td>R1</td>\n",
              "    </tr>\n",
              "    <tr>\n",
              "      <th>4</th>\n",
              "      <td>12b_S26_L001_R1_001.fastq.gz</td>\n",
              "      <td>12b</td>\n",
              "      <td>26</td>\n",
              "      <td>R1</td>\n",
              "    </tr>\n",
              "    <tr>\n",
              "      <th>6</th>\n",
              "      <td>13b_S28_L001_R1_001.fastq.gz</td>\n",
              "      <td>13b</td>\n",
              "      <td>28</td>\n",
              "      <td>R1</td>\n",
              "    </tr>\n",
              "    <tr>\n",
              "      <th>8</th>\n",
              "      <td>14b_S29_L001_R1_001.fastq.gz</td>\n",
              "      <td>14b</td>\n",
              "      <td>29</td>\n",
              "      <td>R1</td>\n",
              "    </tr>\n",
              "    <tr>\n",
              "      <th>...</th>\n",
              "      <td>...</td>\n",
              "      <td>...</td>\n",
              "      <td>...</td>\n",
              "      <td>...</td>\n",
              "    </tr>\n",
              "    <tr>\n",
              "      <th>132</th>\n",
              "      <td>7b_S19_L001_R1_001.fastq.gz</td>\n",
              "      <td>7b</td>\n",
              "      <td>19</td>\n",
              "      <td>R1</td>\n",
              "    </tr>\n",
              "    <tr>\n",
              "      <th>134</th>\n",
              "      <td>80_S68_L001_R1_001.fastq.gz</td>\n",
              "      <td>80</td>\n",
              "      <td>68</td>\n",
              "      <td>R1</td>\n",
              "    </tr>\n",
              "    <tr>\n",
              "      <th>136</th>\n",
              "      <td>81_S69_L001_R1_001.fastq.gz</td>\n",
              "      <td>81</td>\n",
              "      <td>69</td>\n",
              "      <td>R1</td>\n",
              "    </tr>\n",
              "    <tr>\n",
              "      <th>138</th>\n",
              "      <td>8b_S20_L001_R1_001.fastq.gz</td>\n",
              "      <td>8b</td>\n",
              "      <td>20</td>\n",
              "      <td>R1</td>\n",
              "    </tr>\n",
              "    <tr>\n",
              "      <th>140</th>\n",
              "      <td>9b_S21_L001_R1_001.fastq.gz</td>\n",
              "      <td>9b</td>\n",
              "      <td>21</td>\n",
              "      <td>R1</td>\n",
              "    </tr>\n",
              "  </tbody>\n",
              "</table>\n",
              "<p>71 rows × 4 columns</p>\n",
              "</div>"
            ],
            "text/plain": [
              "                         filename filename_part1  filename_part2 filename_part3\n",
              "0    10b_S23_L001_R1_001.fastq.gz            10b              23             R1\n",
              "2    11b_S24_L001_R1_001.fastq.gz            11b              24             R1\n",
              "4    12b_S26_L001_R1_001.fastq.gz            12b              26             R1\n",
              "6    13b_S28_L001_R1_001.fastq.gz            13b              28             R1\n",
              "8    14b_S29_L001_R1_001.fastq.gz            14b              29             R1\n",
              "..                            ...            ...             ...            ...\n",
              "132   7b_S19_L001_R1_001.fastq.gz             7b              19             R1\n",
              "134   80_S68_L001_R1_001.fastq.gz             80              68             R1\n",
              "136   81_S69_L001_R1_001.fastq.gz             81              69             R1\n",
              "138   8b_S20_L001_R1_001.fastq.gz             8b              20             R1\n",
              "140   9b_S21_L001_R1_001.fastq.gz             9b              21             R1\n",
              "\n",
              "[71 rows x 4 columns]"
            ]
          },
          "metadata": {
            "tags": []
          },
          "execution_count": 8
        }
      ]
    },
    {
      "cell_type": "code",
      "metadata": {
        "id": "vURKy5597qQH"
      },
      "source": [
        "data_merged = samples.merge(files, \\\n",
        "                               left_on='Номер 16s', \\\n",
        "                               right_on='filename_part2', \\\n",
        "                               how = 'inner')"
      ],
      "execution_count": 9,
      "outputs": []
    },
    {
      "cell_type": "code",
      "metadata": {
        "colab": {
          "base_uri": "https://localhost:8080/",
          "height": 288
        },
        "id": "rpSIKiVtde5T",
        "outputId": "6d5db9f5-22ec-416f-e87b-9b526c0f01ab"
      },
      "source": [
        "data_merged.head(2)"
      ],
      "execution_count": 10,
      "outputs": [
        {
          "output_type": "execute_result",
          "data": {
            "text/html": [
              "<div>\n",
              "<style scoped>\n",
              "    .dataframe tbody tr th:only-of-type {\n",
              "        vertical-align: middle;\n",
              "    }\n",
              "\n",
              "    .dataframe tbody tr th {\n",
              "        vertical-align: top;\n",
              "    }\n",
              "\n",
              "    .dataframe thead th {\n",
              "        text-align: right;\n",
              "    }\n",
              "</style>\n",
              "<table border=\"1\" class=\"dataframe\">\n",
              "  <thead>\n",
              "    <tr style=\"text-align: right;\">\n",
              "      <th></th>\n",
              "      <th>ФИО</th>\n",
              "      <th>Unnamed: 1</th>\n",
              "      <th>Номер 16s</th>\n",
              "      <th>пол</th>\n",
              "      <th>Возраст</th>\n",
              "      <th>Диагноз</th>\n",
              "      <th>Схема лечения</th>\n",
              "      <th>Объективный ответ</th>\n",
              "      <th>Есть прогр - 1 или нет - 0</th>\n",
              "      <th>Клиническое состояние при прогрессировании</th>\n",
              "      <th>Группа_ХТ-2_ИТ-1</th>\n",
              "      <th>ИТ остановлена_1-да_0-нет</th>\n",
              "      <th>Сочетание с ХТ (0-нет, 1-да)</th>\n",
              "      <th>1_Уменшение_ИТ_все_есть-1_Нет-0</th>\n",
              "      <th>ВСЕ_ВДП&gt;6 мес</th>\n",
              "      <th>ВСЕ_ИММУНО_ВДП&gt;6 мес</th>\n",
              "      <th>МОНОИММУНО_ВДП&gt;6 мес</th>\n",
              "      <th>Жив - 0/умер - 1</th>\n",
              "      <th>ВДП_мес</th>\n",
              "      <th>ВДП (мес)</th>\n",
              "      <th>число введений</th>\n",
              "      <th>Дата достижения ответа (для пр и чр) в циклах</th>\n",
              "      <th>Гистология</th>\n",
              "      <th>filename</th>\n",
              "      <th>filename_part1</th>\n",
              "      <th>filename_part2</th>\n",
              "      <th>filename_part3</th>\n",
              "    </tr>\n",
              "  </thead>\n",
              "  <tbody>\n",
              "    <tr>\n",
              "      <th>0</th>\n",
              "      <td>Габелок Николай Евгеньевич</td>\n",
              "      <td>31Б</td>\n",
              "      <td>34</td>\n",
              "      <td>М</td>\n",
              "      <td>40.608219</td>\n",
              "      <td>ГиШ</td>\n",
              "      <td>ниволумаб</td>\n",
              "      <td>PR</td>\n",
              "      <td>0.0</td>\n",
              "      <td>без динамики</td>\n",
              "      <td>1.0</td>\n",
              "      <td>1.0</td>\n",
              "      <td>0.0</td>\n",
              "      <td>1.0</td>\n",
              "      <td>1.0</td>\n",
              "      <td>1.0</td>\n",
              "      <td>1.0</td>\n",
              "      <td>0.0</td>\n",
              "      <td>8.600000</td>\n",
              "      <td>6.266667</td>\n",
              "      <td>9.0</td>\n",
              "      <td>2.0</td>\n",
              "      <td>Плоскоклеточный</td>\n",
              "      <td>31b_S34_L001_R1_001.fastq.gz</td>\n",
              "      <td>31b</td>\n",
              "      <td>34</td>\n",
              "      <td>R1</td>\n",
              "    </tr>\n",
              "    <tr>\n",
              "      <th>1</th>\n",
              "      <td>Рахманова Татьяна Николаевна</td>\n",
              "      <td>4Б</td>\n",
              "      <td>15</td>\n",
              "      <td>Ж</td>\n",
              "      <td>69.780822</td>\n",
              "      <td>КРР</td>\n",
              "      <td>пембролизумаб</td>\n",
              "      <td>PD</td>\n",
              "      <td>1.0</td>\n",
              "      <td>ухудшение</td>\n",
              "      <td>1.0</td>\n",
              "      <td>1.0</td>\n",
              "      <td>0.0</td>\n",
              "      <td>0.0</td>\n",
              "      <td>0.0</td>\n",
              "      <td>0.0</td>\n",
              "      <td>0.0</td>\n",
              "      <td>0.0</td>\n",
              "      <td>2.466667</td>\n",
              "      <td>2.466667</td>\n",
              "      <td>4.0</td>\n",
              "      <td>2.0</td>\n",
              "      <td>Аденокарцинома</td>\n",
              "      <td>4b_S15_L001_R1_001.fastq.gz</td>\n",
              "      <td>4b</td>\n",
              "      <td>15</td>\n",
              "      <td>R1</td>\n",
              "    </tr>\n",
              "  </tbody>\n",
              "</table>\n",
              "</div>"
            ],
            "text/plain": [
              "                            ФИО Unnamed: 1  ...  filename_part2 filename_part3\n",
              "0    Габелок Николай Евгеньевич        31Б  ...              34             R1\n",
              "1  Рахманова Татьяна Николаевна         4Б  ...              15             R1\n",
              "\n",
              "[2 rows x 27 columns]"
            ]
          },
          "metadata": {
            "tags": []
          },
          "execution_count": 10
        }
      ]
    },
    {
      "cell_type": "code",
      "metadata": {
        "colab": {
          "base_uri": "https://localhost:8080/"
        },
        "id": "d0VDx_xP7qg-",
        "outputId": "f309e713-6a64-4e80-ec34-75691ef3f92b"
      },
      "source": [
        "data_merged['Диагноз'].value_counts()"
      ],
      "execution_count": 11,
      "outputs": [
        {
          "output_type": "execute_result",
          "data": {
            "text/plain": [
              "НМРЛ                 32\n",
              "РМЖ                  15\n",
              "Почка                 9\n",
              "МРЛ                   5\n",
              "рак желудка           3\n",
              "КРР                   2\n",
              "меланома              1\n",
              "Меланома              1\n",
              "ГиШ                   1\n",
              "Уротелиальный рак     1\n",
              "Name: Диагноз, dtype: int64"
            ]
          },
          "metadata": {
            "tags": []
          },
          "execution_count": 11
        }
      ]
    },
    {
      "cell_type": "code",
      "metadata": {
        "id": "ENFX6PR37qlu"
      },
      "source": [
        "data_merged['new_diagnosis'] = data_merged['Диагноз']"
      ],
      "execution_count": 12,
      "outputs": []
    },
    {
      "cell_type": "code",
      "metadata": {
        "id": "pFfMsD5M7qjI"
      },
      "source": [
        "data_merged['new_diagnosis'][data_merged['Диагноз'] == 'рак желудка'] = 'Рак желудка'\n",
        "data_merged['new_diagnosis'][data_merged['Диагноз'] == 'меланома'] = 'Меланома'\n",
        "data_merged['new_diagnosis'][data_merged['Диагноз'] == 'ПМО: НМРЛ адено  PDL 100%, рак гортани'] = 'НМРЛ'"
      ],
      "execution_count": null,
      "outputs": []
    },
    {
      "cell_type": "code",
      "metadata": {
        "colab": {
          "base_uri": "https://localhost:8080/"
        },
        "id": "-WB0wGQfcKqx",
        "outputId": "a242f177-d370-41d8-9aa2-fa596e9b83d1"
      },
      "source": [
        "data_merged['Гистология'].value_counts()"
      ],
      "execution_count": 14,
      "outputs": [
        {
          "output_type": "execute_result",
          "data": {
            "text/plain": [
              "Адено                               14\n",
              "Инвазивный протоковый               12\n",
              "Светлоклеточный                      9\n",
              "Плокскоклеточный рак                 7\n",
              "Плоскоклеточный рак                  6\n",
              "Плоскоклеточный                      5\n",
              "Инвазивный неспецифицированный       3\n",
              "Мелкоклеточный рак                   2\n",
              "Крупноклеточный нейроэндокринный     2\n",
              "Аденокарцинома                       2\n",
              "Меланома                             1\n",
              "Адено-сквамозный                     1\n",
              "Слизистой                            1\n",
              "Переходно-клеточный рак              1\n",
              "Муцинозная карцинома                 1\n",
              "плоскоклеточный                      1\n",
              "мелкоклеточный рак                   1\n",
              "Name: Гистология, dtype: int64"
            ]
          },
          "metadata": {
            "tags": []
          },
          "execution_count": 14
        }
      ]
    },
    {
      "cell_type": "code",
      "metadata": {
        "id": "aQAch9vJdNqr"
      },
      "source": [
        "data_merged['new_hysto'] = data_merged['Гистология']"
      ],
      "execution_count": 15,
      "outputs": []
    },
    {
      "cell_type": "code",
      "metadata": {
        "id": "Yw4sLTUZ7qp5"
      },
      "source": [
        "data_merged['new_hysto'][data_merged['Гистология'] == 'Плокскоклеточный рак'] = 'Плоскоклеточный рак'\n",
        "data_merged['new_hysto'][data_merged['Гистология'] == 'Плоскоклеточный'] = 'Плоскоклеточный рак'\n",
        "data_merged['new_hysto'][data_merged['Гистология'] == 'плоскоклеточный'] = 'Плоскоклеточный рак'\n",
        "data_merged['new_hysto'][data_merged['Гистология'] == 'мелкоклеточный рак'] = 'Мелкоклеточный рак'"
      ],
      "execution_count": null,
      "outputs": []
    },
    {
      "cell_type": "code",
      "metadata": {
        "id": "4tkZzDZfdNt2",
        "colab": {
          "base_uri": "https://localhost:8080/"
        },
        "outputId": "20fdf783-7d27-431c-b474-1852d4dde48f"
      },
      "source": [
        "data_merged['new_hysto'].value_counts()"
      ],
      "execution_count": 17,
      "outputs": [
        {
          "output_type": "execute_result",
          "data": {
            "text/plain": [
              "Плоскоклеточный рак                 19\n",
              "Адено                               14\n",
              "Инвазивный протоковый               12\n",
              "Светлоклеточный                      9\n",
              "Мелкоклеточный рак                   3\n",
              "Инвазивный неспецифицированный       3\n",
              "Крупноклеточный нейроэндокринный     2\n",
              "Аденокарцинома                       2\n",
              "Слизистой                            1\n",
              "Переходно-клеточный рак              1\n",
              "Муцинозная карцинома                 1\n",
              "Адено-сквамозный                     1\n",
              "Меланома                             1\n",
              "Name: new_hysto, dtype: int64"
            ]
          },
          "metadata": {
            "tags": []
          },
          "execution_count": 17
        }
      ]
    },
    {
      "cell_type": "code",
      "metadata": {
        "id": "LMk6OA5ydNwc",
        "colab": {
          "base_uri": "https://localhost:8080/"
        },
        "outputId": "baa58df1-03bd-4145-a92c-326466c9657c"
      },
      "source": [
        "data_merged.isna().sum()"
      ],
      "execution_count": 18,
      "outputs": [
        {
          "output_type": "execute_result",
          "data": {
            "text/plain": [
              "ФИО                                               0\n",
              "Unnamed: 1                                        0\n",
              "Номер 16s                                         0\n",
              "пол                                               0\n",
              "Возраст                                           1\n",
              "Диагноз                                           0\n",
              "Схема лечения                                     1\n",
              "Объективный ответ                                 5\n",
              "Есть прогр - 1 или нет - 0                        2\n",
              "Клиническое состояние при прогрессировании       27\n",
              "Группа_ХТ-2_ИТ-1                                  1\n",
              "ИТ остановлена_1-да_0-нет                        18\n",
              "Сочетание с ХТ (0-нет, 1-да)                      2\n",
              "1_Уменшение_ИТ_все_есть-1_Нет-0                  18\n",
              "ВСЕ_ВДП>6 мес                                     2\n",
              "ВСЕ_ИММУНО_ВДП>6 мес                             16\n",
              "МОНОИММУНО_ВДП>6 мес                             30\n",
              "Жив - 0/умер - 1                                  2\n",
              "ВДП_мес                                           2\n",
              "ВДП (мес)                                         1\n",
              "число введений                                    9\n",
              "Дата достижения ответа (для пр и чр) в циклах    41\n",
              "Гистология                                        1\n",
              "filename                                          0\n",
              "filename_part1                                    0\n",
              "filename_part2                                    0\n",
              "filename_part3                                    0\n",
              "new_diagnosis                                     0\n",
              "new_hysto                                         1\n",
              "dtype: int64"
            ]
          },
          "metadata": {
            "tags": []
          },
          "execution_count": 18
        }
      ]
    },
    {
      "cell_type": "code",
      "metadata": {
        "id": "SXamGOE4dNyf",
        "colab": {
          "base_uri": "https://localhost:8080/"
        },
        "outputId": "ce447dac-9c0d-4f03-9a71-ad19cd0872d3"
      },
      "source": [
        "data_merged['Схема лечения'].value_counts()"
      ],
      "execution_count": 19,
      "outputs": [
        {
          "output_type": "execute_result",
          "data": {
            "text/plain": [
              "ниволумаб                                            20\n",
              "пембролизумаб                                        14\n",
              "ТС-пембро                                             6\n",
              "4АС-4доцетаксел                                       4\n",
              "4EC-атезо                                             3\n",
              "атезолизумаб                                          3\n",
              "ТС+пембро                                             2\n",
              "4ЕС-4доцетаксел                                       2\n",
              "4АС                                                   1\n",
              "тамоксифен-опер-АдьювХТ                               1\n",
              "Ниволумаб+ипилимумаб                                  1\n",
              "4EC-пакли-траст                                       1\n",
              "доцетаксел-Трастузумаб-Пертузумаб                     1\n",
              "ТС-атезо-бев                                          1\n",
              "ТС-бев-атезо                                          1\n",
              "атезолимаб                                            1\n",
              "операция-АХТ                                          1\n",
              "4ЕС-паклитаксел-трастузумаб                           1\n",
              "карбоплатин                                           1\n",
              "2АС                                                   1\n",
              "циспл-этопозид-атезо                                  1\n",
              "пембролизумаб-атезо                                   1\n",
              "4EC-PR-Доцетаксел-Трастузумаб-Пертузумаб-МЭ_МР_II     1\n",
              "Name: Схема лечения, dtype: int64"
            ]
          },
          "metadata": {
            "tags": []
          },
          "execution_count": 19
        }
      ]
    },
    {
      "cell_type": "code",
      "metadata": {
        "id": "y7OoL7JkdN1d"
      },
      "source": [
        "data_merged['new_treatment'] = data_merged['Схема лечения']"
      ],
      "execution_count": 20,
      "outputs": []
    },
    {
      "cell_type": "code",
      "metadata": {
        "id": "550M3AZNdN4P"
      },
      "source": [
        "data_merged['new_treatment'][data_merged['ФИО'] == 'Капустина Валентина Ивановна'] = np.NaN\n",
        "\n",
        "data_merged['new_treatment'][data_merged['Схема лечения'] == 'Ниволумаб'] = 'ниволумаб'\n",
        "data_merged['new_treatment'][data_merged['Схема лечения'] == '4EC-атезо'] = '4EC-атезолизумаб'\n",
        "data_merged['new_treatment'][data_merged['Схема лечения'] == 'ТС+пембро'] = 'ТС-пембролизумаб'\n",
        "data_merged['new_treatment'][data_merged['Схема лечения'] == 'тамоксифен-опер-АдьювХТ '] = 'тамоксифен-операция-АХТ'\n",
        "data_merged['new_treatment'][data_merged['Схема лечения'] == '4EC-пакли-траст'] = '4EC-пакли-трастузумаб'\n",
        "data_merged['new_treatment'][data_merged['Схема лечения'] == '4EC-PR-Доцетаксел-Трастузумаб-Пертузумаб-МЭ_МР_II'] = '4EC-PR-доцетаксел-трастузумаб-пертузумаб-МЭ_МР_II'\n",
        "data_merged['new_treatment'][data_merged['Схема лечения'] == 'пембролизумаб-атезо'] = 'пембролизумаб-атезолизумаб'\n",
        "data_merged['new_treatment'][data_merged['Схема лечения'] == 'доцетаксел-Трастузумаб-Пертузумаб'] = 'доцетаксел-трастузумаб-пертузумаб'\n",
        "data_merged['new_treatment'][data_merged['Схема лечения'] == 'ТС-бев-атезо'] = 'ТС-бев-атезолизумаб'\n"
      ],
      "execution_count": null,
      "outputs": []
    },
    {
      "cell_type": "code",
      "metadata": {
        "id": "3ChVsKV-dN7F",
        "colab": {
          "base_uri": "https://localhost:8080/"
        },
        "outputId": "4bf19e60-0b24-47f9-f29a-a21f6a1f87e8"
      },
      "source": [
        "data_merged['new_treatment'].value_counts()"
      ],
      "execution_count": 22,
      "outputs": [
        {
          "output_type": "execute_result",
          "data": {
            "text/plain": [
              "ниволумаб                                            20\n",
              "пембролизумаб                                        14\n",
              "ТС-пембро                                             6\n",
              "атезолизумаб                                          3\n",
              "4EC-атезолизумаб                                      3\n",
              "4АС-4доцетаксел                                       3\n",
              "4ЕС-4доцетаксел                                       2\n",
              "ТС-пембролизумаб                                      2\n",
              "операция-АХТ                                          1\n",
              "тамоксифен-операция-АХТ                               1\n",
              "пембролизумаб-атезолизумаб                            1\n",
              "4ЕС-паклитаксел-трастузумаб                           1\n",
              "4EC-PR-доцетаксел-трастузумаб-пертузумаб-МЭ_МР_II     1\n",
              "ТС-бев-атезолизумаб                                   1\n",
              "Ниволумаб+ипилимумаб                                  1\n",
              "циспл-этопозид-атезо                                  1\n",
              "атезолимаб                                            1\n",
              "ТС-атезо-бев                                          1\n",
              "доцетаксел-трастузумаб-пертузумаб                     1\n",
              "карбоплатин                                           1\n",
              "4АС                                                   1\n",
              "2АС                                                   1\n",
              "4EC-пакли-трастузумаб                                 1\n",
              "Name: new_treatment, dtype: int64"
            ]
          },
          "metadata": {
            "tags": []
          },
          "execution_count": 22
        }
      ]
    },
    {
      "cell_type": "code",
      "metadata": {
        "colab": {
          "base_uri": "https://localhost:8080/"
        },
        "id": "g8fzIQMKDYYQ",
        "outputId": "fabe6718-d21f-4019-feed-9db045782d04"
      },
      "source": [
        "data_merged['Объективный ответ'][data_merged['Объективный ответ'] == 'SD '] = 'SD'"
      ],
      "execution_count": 23,
      "outputs": [
        {
          "output_type": "stream",
          "text": [
            "/usr/local/lib/python3.7/dist-packages/ipykernel_launcher.py:1: SettingWithCopyWarning: \n",
            "A value is trying to be set on a copy of a slice from a DataFrame\n",
            "\n",
            "See the caveats in the documentation: https://pandas.pydata.org/pandas-docs/stable/user_guide/indexing.html#returning-a-view-versus-a-copy\n",
            "  \"\"\"Entry point for launching an IPython kernel.\n"
          ],
          "name": "stderr"
        }
      ]
    },
    {
      "cell_type": "code",
      "metadata": {
        "id": "R5lXDWMxdN-i"
      },
      "source": [
        "unique = set()\n",
        "for i in data_merged['new_treatment'].dropna().str.split('-'):\n",
        "    for j in i:\n",
        "      unique.add(j)"
      ],
      "execution_count": 24,
      "outputs": []
    },
    {
      "cell_type": "code",
      "metadata": {
        "id": "KAVcy_TkdOBv"
      },
      "source": [
        "treatment_ = pd.DataFrame(columns = unique)\n",
        "unique = list(unique)\n",
        "for i in unique:\n",
        "  data_merged[i] = data_merged['new_treatment'].str.contains(i)\n",
        "  data_merged[i] = data_merged[i]*1\n"
      ],
      "execution_count": 25,
      "outputs": []
    },
    {
      "cell_type": "code",
      "metadata": {
        "colab": {
          "base_uri": "https://localhost:8080/",
          "height": 288
        },
        "id": "l11bXHVGXNqj",
        "outputId": "0fda5f1b-b2b1-4798-dbc5-f91c214fa0d9"
      },
      "source": [
        "data_merged.head(2)"
      ],
      "execution_count": 26,
      "outputs": [
        {
          "output_type": "execute_result",
          "data": {
            "text/html": [
              "<div>\n",
              "<style scoped>\n",
              "    .dataframe tbody tr th:only-of-type {\n",
              "        vertical-align: middle;\n",
              "    }\n",
              "\n",
              "    .dataframe tbody tr th {\n",
              "        vertical-align: top;\n",
              "    }\n",
              "\n",
              "    .dataframe thead th {\n",
              "        text-align: right;\n",
              "    }\n",
              "</style>\n",
              "<table border=\"1\" class=\"dataframe\">\n",
              "  <thead>\n",
              "    <tr style=\"text-align: right;\">\n",
              "      <th></th>\n",
              "      <th>ФИО</th>\n",
              "      <th>Unnamed: 1</th>\n",
              "      <th>Номер 16s</th>\n",
              "      <th>пол</th>\n",
              "      <th>Возраст</th>\n",
              "      <th>Диагноз</th>\n",
              "      <th>Схема лечения</th>\n",
              "      <th>Объективный ответ</th>\n",
              "      <th>Есть прогр - 1 или нет - 0</th>\n",
              "      <th>Клиническое состояние при прогрессировании</th>\n",
              "      <th>Группа_ХТ-2_ИТ-1</th>\n",
              "      <th>ИТ остановлена_1-да_0-нет</th>\n",
              "      <th>Сочетание с ХТ (0-нет, 1-да)</th>\n",
              "      <th>1_Уменшение_ИТ_все_есть-1_Нет-0</th>\n",
              "      <th>ВСЕ_ВДП&gt;6 мес</th>\n",
              "      <th>ВСЕ_ИММУНО_ВДП&gt;6 мес</th>\n",
              "      <th>МОНОИММУНО_ВДП&gt;6 мес</th>\n",
              "      <th>Жив - 0/умер - 1</th>\n",
              "      <th>ВДП_мес</th>\n",
              "      <th>ВДП (мес)</th>\n",
              "      <th>число введений</th>\n",
              "      <th>Дата достижения ответа (для пр и чр) в циклах</th>\n",
              "      <th>Гистология</th>\n",
              "      <th>filename</th>\n",
              "      <th>filename_part1</th>\n",
              "      <th>filename_part2</th>\n",
              "      <th>filename_part3</th>\n",
              "      <th>new_diagnosis</th>\n",
              "      <th>new_hysto</th>\n",
              "      <th>new_treatment</th>\n",
              "      <th>МЭ_МР_II</th>\n",
              "      <th>бев</th>\n",
              "      <th>пертузумаб</th>\n",
              "      <th>трастузумаб</th>\n",
              "      <th>4АС</th>\n",
              "      <th>циспл</th>\n",
              "      <th>4доцетаксел</th>\n",
              "      <th>PR</th>\n",
              "      <th>пакли</th>\n",
              "      <th>бев</th>\n",
              "      <th>доцетаксел</th>\n",
              "      <th>ниволумаб</th>\n",
              "      <th>Ниволумаб+ипилимумаб</th>\n",
              "      <th>атезо</th>\n",
              "      <th>карбоплатин</th>\n",
              "      <th>атезолизумаб</th>\n",
              "      <th>паклитаксел</th>\n",
              "      <th>АХТ</th>\n",
              "      <th>этопозид</th>\n",
              "      <th>пембро</th>\n",
              "      <th>ТС</th>\n",
              "      <th>4ЕС</th>\n",
              "      <th>тамоксифен</th>\n",
              "      <th>4EC</th>\n",
              "      <th>операция</th>\n",
              "      <th>2АС</th>\n",
              "      <th>пембролизумаб</th>\n",
              "      <th>атезолимаб</th>\n",
              "    </tr>\n",
              "  </thead>\n",
              "  <tbody>\n",
              "    <tr>\n",
              "      <th>0</th>\n",
              "      <td>Габелок Николай Евгеньевич</td>\n",
              "      <td>31Б</td>\n",
              "      <td>34</td>\n",
              "      <td>М</td>\n",
              "      <td>40.608219</td>\n",
              "      <td>ГиШ</td>\n",
              "      <td>ниволумаб</td>\n",
              "      <td>PR</td>\n",
              "      <td>0.0</td>\n",
              "      <td>без динамики</td>\n",
              "      <td>1.0</td>\n",
              "      <td>1.0</td>\n",
              "      <td>0.0</td>\n",
              "      <td>1.0</td>\n",
              "      <td>1.0</td>\n",
              "      <td>1.0</td>\n",
              "      <td>1.0</td>\n",
              "      <td>0.0</td>\n",
              "      <td>8.600000</td>\n",
              "      <td>6.266667</td>\n",
              "      <td>9.0</td>\n",
              "      <td>2.0</td>\n",
              "      <td>Плоскоклеточный</td>\n",
              "      <td>31b_S34_L001_R1_001.fastq.gz</td>\n",
              "      <td>31b</td>\n",
              "      <td>34</td>\n",
              "      <td>R1</td>\n",
              "      <td>ГиШ</td>\n",
              "      <td>Плоскоклеточный рак</td>\n",
              "      <td>ниволумаб</td>\n",
              "      <td>0</td>\n",
              "      <td>0</td>\n",
              "      <td>0</td>\n",
              "      <td>0</td>\n",
              "      <td>0</td>\n",
              "      <td>0</td>\n",
              "      <td>0</td>\n",
              "      <td>0</td>\n",
              "      <td>0</td>\n",
              "      <td>0</td>\n",
              "      <td>0</td>\n",
              "      <td>1</td>\n",
              "      <td>0</td>\n",
              "      <td>0</td>\n",
              "      <td>0</td>\n",
              "      <td>0</td>\n",
              "      <td>0</td>\n",
              "      <td>0</td>\n",
              "      <td>0</td>\n",
              "      <td>0</td>\n",
              "      <td>0</td>\n",
              "      <td>0</td>\n",
              "      <td>0</td>\n",
              "      <td>0</td>\n",
              "      <td>0</td>\n",
              "      <td>0</td>\n",
              "      <td>0</td>\n",
              "      <td>0</td>\n",
              "    </tr>\n",
              "    <tr>\n",
              "      <th>1</th>\n",
              "      <td>Рахманова Татьяна Николаевна</td>\n",
              "      <td>4Б</td>\n",
              "      <td>15</td>\n",
              "      <td>Ж</td>\n",
              "      <td>69.780822</td>\n",
              "      <td>КРР</td>\n",
              "      <td>пембролизумаб</td>\n",
              "      <td>PD</td>\n",
              "      <td>1.0</td>\n",
              "      <td>ухудшение</td>\n",
              "      <td>1.0</td>\n",
              "      <td>1.0</td>\n",
              "      <td>0.0</td>\n",
              "      <td>0.0</td>\n",
              "      <td>0.0</td>\n",
              "      <td>0.0</td>\n",
              "      <td>0.0</td>\n",
              "      <td>0.0</td>\n",
              "      <td>2.466667</td>\n",
              "      <td>2.466667</td>\n",
              "      <td>4.0</td>\n",
              "      <td>2.0</td>\n",
              "      <td>Аденокарцинома</td>\n",
              "      <td>4b_S15_L001_R1_001.fastq.gz</td>\n",
              "      <td>4b</td>\n",
              "      <td>15</td>\n",
              "      <td>R1</td>\n",
              "      <td>КРР</td>\n",
              "      <td>Аденокарцинома</td>\n",
              "      <td>пембролизумаб</td>\n",
              "      <td>0</td>\n",
              "      <td>0</td>\n",
              "      <td>0</td>\n",
              "      <td>0</td>\n",
              "      <td>0</td>\n",
              "      <td>0</td>\n",
              "      <td>0</td>\n",
              "      <td>0</td>\n",
              "      <td>0</td>\n",
              "      <td>0</td>\n",
              "      <td>0</td>\n",
              "      <td>0</td>\n",
              "      <td>0</td>\n",
              "      <td>0</td>\n",
              "      <td>0</td>\n",
              "      <td>0</td>\n",
              "      <td>0</td>\n",
              "      <td>0</td>\n",
              "      <td>0</td>\n",
              "      <td>1</td>\n",
              "      <td>0</td>\n",
              "      <td>0</td>\n",
              "      <td>0</td>\n",
              "      <td>0</td>\n",
              "      <td>0</td>\n",
              "      <td>0</td>\n",
              "      <td>1</td>\n",
              "      <td>0</td>\n",
              "    </tr>\n",
              "  </tbody>\n",
              "</table>\n",
              "</div>"
            ],
            "text/plain": [
              "                            ФИО Unnamed: 1  ...  пембролизумаб атезолимаб\n",
              "0    Габелок Николай Евгеньевич        31Б  ...              0          0\n",
              "1  Рахманова Татьяна Николаевна         4Б  ...              1          0\n",
              "\n",
              "[2 rows x 58 columns]"
            ]
          },
          "metadata": {
            "tags": []
          },
          "execution_count": 26
        }
      ]
    },
    {
      "cell_type": "code",
      "metadata": {
        "colab": {
          "base_uri": "https://localhost:8080/"
        },
        "id": "LfrUaBKXYJVX",
        "outputId": "7487974e-033b-4c29-8241-5131252c748a"
      },
      "source": [
        "data_merged['Клиническое состояние при прогрессировании'].value_counts()"
      ],
      "execution_count": 27,
      "outputs": [
        {
          "output_type": "execute_result",
          "data": {
            "text/plain": [
              "без динамики    26\n",
              "ухудшение        9\n",
              "улучшение        7\n",
              "улучшение?       1\n",
              "Name: Клиническое состояние при прогрессировании, dtype: int64"
            ]
          },
          "metadata": {
            "tags": []
          },
          "execution_count": 27
        }
      ]
    },
    {
      "cell_type": "code",
      "metadata": {
        "id": "n0QHNnUWYJbW"
      },
      "source": [
        "data_merged['Клиническое состояние при прогрессировании'][data_merged['Клиническое состояние при прогрессировании'] == 'улучшение?'] = 'улучшение'"
      ],
      "execution_count": null,
      "outputs": []
    },
    {
      "cell_type": "code",
      "metadata": {
        "id": "iAej2zAGdOEd"
      },
      "source": [
        "data_merged = data_merged.drop(['ФИО', 'Номер 16s', 'Схема лечения', 'filename_part2', 'filename_part3', \n",
        "                               'Диагноз', 'Схема лечения', 'Гистология'], axis = 1)"
      ],
      "execution_count": 29,
      "outputs": []
    },
    {
      "cell_type": "code",
      "metadata": {
        "id": "INUpPvb7dOIH"
      },
      "source": [
        "data_merged.to_csv('/content/drive/MyDrive/onko/data_meta.csv')"
      ],
      "execution_count": 30,
      "outputs": []
    },
    {
      "cell_type": "code",
      "metadata": {
        "id": "isa9hcjk7qsx",
        "colab": {
          "base_uri": "https://localhost:8080/",
          "height": 461
        },
        "outputId": "672f94c0-696a-4b09-f712-a4667e7a8456"
      },
      "source": [
        "metagenomes = pd.read_csv('/content/drive/MyDrive/onko/Sequence_metagemome_summary.csv')\n",
        "metagenomes = pd.pivot_table(metagenomes, \n",
        "               values = metagenomes.columns,\n",
        "               columns = ['Family']).reset_index()\n",
        "metagenomes"
      ],
      "execution_count": 31,
      "outputs": [
        {
          "output_type": "execute_result",
          "data": {
            "text/html": [
              "<div>\n",
              "<style scoped>\n",
              "    .dataframe tbody tr th:only-of-type {\n",
              "        vertical-align: middle;\n",
              "    }\n",
              "\n",
              "    .dataframe tbody tr th {\n",
              "        vertical-align: top;\n",
              "    }\n",
              "\n",
              "    .dataframe thead th {\n",
              "        text-align: right;\n",
              "    }\n",
              "</style>\n",
              "<table border=\"1\" class=\"dataframe\">\n",
              "  <thead>\n",
              "    <tr style=\"text-align: right;\">\n",
              "      <th>Family</th>\n",
              "      <th>index</th>\n",
              "      <th>Acidaminococcaceae</th>\n",
              "      <th>Actinomycetaceae</th>\n",
              "      <th>Aerococcaceae</th>\n",
              "      <th>Akkermansiaceae</th>\n",
              "      <th>Anaerolineaceae</th>\n",
              "      <th>Anaeroplasmataceae</th>\n",
              "      <th>Atopobiaceae</th>\n",
              "      <th>Bacillaceae</th>\n",
              "      <th>Bacteroidaceae</th>\n",
              "      <th>Barnesiellaceae</th>\n",
              "      <th>Bifidobacteriaceae</th>\n",
              "      <th>Bogoriellaceae</th>\n",
              "      <th>Brevibacteriaceae</th>\n",
              "      <th>Burkholderiaceae</th>\n",
              "      <th>Campylobacteraceae</th>\n",
              "      <th>Carnobacteriaceae</th>\n",
              "      <th>Cellulomonadaceae</th>\n",
              "      <th>Chitinophagaceae</th>\n",
              "      <th>Christensenellaceae</th>\n",
              "      <th>Clostridiaceae_1</th>\n",
              "      <th>Clostridiaceae_2</th>\n",
              "      <th>Clostridiales_vadinBB60_group</th>\n",
              "      <th>Coriobacteriaceae</th>\n",
              "      <th>Coriobacteriales_Incertae_Sedis</th>\n",
              "      <th>Corynebacteriaceae</th>\n",
              "      <th>Defluviitaleaceae</th>\n",
              "      <th>Desulfovibrionaceae</th>\n",
              "      <th>Dysgonomonadaceae</th>\n",
              "      <th>Eggerthellaceae</th>\n",
              "      <th>Enterobacteriaceae</th>\n",
              "      <th>Enterococcaceae</th>\n",
              "      <th>Erysipelotrichaceae</th>\n",
              "      <th>Eubacteriaceae</th>\n",
              "      <th>Family_III</th>\n",
              "      <th>Family_X</th>\n",
              "      <th>Family_XI</th>\n",
              "      <th>Family_XIII</th>\n",
              "      <th>Fimbriimonadaceae</th>\n",
              "      <th>Fusobacteriaceae</th>\n",
              "      <th>...</th>\n",
              "      <th>Micrococcaceae</th>\n",
              "      <th>Mitochondria</th>\n",
              "      <th>Moraxellaceae</th>\n",
              "      <th>Muribaculaceae</th>\n",
              "      <th>Neisseriaceae</th>\n",
              "      <th>Oligosphaeraceae</th>\n",
              "      <th>Pasteurellaceae</th>\n",
              "      <th>Peptococcaceae</th>\n",
              "      <th>Peptostreptococcaceae</th>\n",
              "      <th>Planococcaceae</th>\n",
              "      <th>Porphyromonadaceae</th>\n",
              "      <th>Prevotellaceae</th>\n",
              "      <th>Prolixibacteraceae</th>\n",
              "      <th>Propionibacteriaceae</th>\n",
              "      <th>Pseudomonadaceae</th>\n",
              "      <th>Puniceicoccaceae</th>\n",
              "      <th>Rhodobacteraceae</th>\n",
              "      <th>Rhodocyclaceae</th>\n",
              "      <th>Rikenellaceae</th>\n",
              "      <th>Ruminococcaceae</th>\n",
              "      <th>Saccharimonadaceae</th>\n",
              "      <th>Shewanellaceae</th>\n",
              "      <th>Sphingobacteriaceae</th>\n",
              "      <th>Sphingomonadaceae</th>\n",
              "      <th>Staphylococcaceae</th>\n",
              "      <th>Streptococcaceae</th>\n",
              "      <th>Succinivibrionaceae</th>\n",
              "      <th>Synergistaceae</th>\n",
              "      <th>Syntrophomonadaceae</th>\n",
              "      <th>Syntrophorhabdaceae</th>\n",
              "      <th>Tannerellaceae</th>\n",
              "      <th>Terasakiellaceae</th>\n",
              "      <th>Unknown_Family</th>\n",
              "      <th>Veillonellaceae</th>\n",
              "      <th>Victivallaceae</th>\n",
              "      <th>Weeksellaceae</th>\n",
              "      <th>Xanthobacteraceae</th>\n",
              "      <th>Xanthomonadaceae</th>\n",
              "      <th>s74e-6049</th>\n",
              "      <th>vadinBE97</th>\n",
              "    </tr>\n",
              "  </thead>\n",
              "  <tbody>\n",
              "    <tr>\n",
              "      <th>0</th>\n",
              "      <td>1</td>\n",
              "      <td>0</td>\n",
              "      <td>0</td>\n",
              "      <td>0</td>\n",
              "      <td>0</td>\n",
              "      <td>0</td>\n",
              "      <td>0</td>\n",
              "      <td>0</td>\n",
              "      <td>0</td>\n",
              "      <td>598</td>\n",
              "      <td>12</td>\n",
              "      <td>0</td>\n",
              "      <td>0</td>\n",
              "      <td>0</td>\n",
              "      <td>0</td>\n",
              "      <td>0</td>\n",
              "      <td>0</td>\n",
              "      <td>0</td>\n",
              "      <td>0</td>\n",
              "      <td>64</td>\n",
              "      <td>0</td>\n",
              "      <td>0</td>\n",
              "      <td>43</td>\n",
              "      <td>7</td>\n",
              "      <td>0</td>\n",
              "      <td>0</td>\n",
              "      <td>0</td>\n",
              "      <td>27</td>\n",
              "      <td>0</td>\n",
              "      <td>0</td>\n",
              "      <td>828</td>\n",
              "      <td>0</td>\n",
              "      <td>28</td>\n",
              "      <td>0</td>\n",
              "      <td>0</td>\n",
              "      <td>0</td>\n",
              "      <td>0</td>\n",
              "      <td>15</td>\n",
              "      <td>0</td>\n",
              "      <td>0</td>\n",
              "      <td>...</td>\n",
              "      <td>0</td>\n",
              "      <td>0</td>\n",
              "      <td>0</td>\n",
              "      <td>0</td>\n",
              "      <td>0</td>\n",
              "      <td>0</td>\n",
              "      <td>0</td>\n",
              "      <td>0</td>\n",
              "      <td>0</td>\n",
              "      <td>0</td>\n",
              "      <td>131</td>\n",
              "      <td>2077</td>\n",
              "      <td>0</td>\n",
              "      <td>0</td>\n",
              "      <td>0</td>\n",
              "      <td>0</td>\n",
              "      <td>0</td>\n",
              "      <td>0</td>\n",
              "      <td>512</td>\n",
              "      <td>3064</td>\n",
              "      <td>0</td>\n",
              "      <td>0</td>\n",
              "      <td>0</td>\n",
              "      <td>0</td>\n",
              "      <td>0</td>\n",
              "      <td>89</td>\n",
              "      <td>0</td>\n",
              "      <td>0</td>\n",
              "      <td>0</td>\n",
              "      <td>0</td>\n",
              "      <td>1811</td>\n",
              "      <td>0</td>\n",
              "      <td>0</td>\n",
              "      <td>119</td>\n",
              "      <td>0</td>\n",
              "      <td>0</td>\n",
              "      <td>0</td>\n",
              "      <td>0</td>\n",
              "      <td>0</td>\n",
              "      <td>0</td>\n",
              "    </tr>\n",
              "    <tr>\n",
              "      <th>1</th>\n",
              "      <td>10b</td>\n",
              "      <td>0</td>\n",
              "      <td>0</td>\n",
              "      <td>0</td>\n",
              "      <td>248</td>\n",
              "      <td>0</td>\n",
              "      <td>0</td>\n",
              "      <td>0</td>\n",
              "      <td>0</td>\n",
              "      <td>2807</td>\n",
              "      <td>155</td>\n",
              "      <td>0</td>\n",
              "      <td>0</td>\n",
              "      <td>0</td>\n",
              "      <td>0</td>\n",
              "      <td>0</td>\n",
              "      <td>0</td>\n",
              "      <td>0</td>\n",
              "      <td>0</td>\n",
              "      <td>3</td>\n",
              "      <td>0</td>\n",
              "      <td>0</td>\n",
              "      <td>0</td>\n",
              "      <td>0</td>\n",
              "      <td>0</td>\n",
              "      <td>0</td>\n",
              "      <td>0</td>\n",
              "      <td>0</td>\n",
              "      <td>0</td>\n",
              "      <td>0</td>\n",
              "      <td>13</td>\n",
              "      <td>0</td>\n",
              "      <td>76</td>\n",
              "      <td>0</td>\n",
              "      <td>0</td>\n",
              "      <td>0</td>\n",
              "      <td>0</td>\n",
              "      <td>0</td>\n",
              "      <td>0</td>\n",
              "      <td>0</td>\n",
              "      <td>...</td>\n",
              "      <td>0</td>\n",
              "      <td>0</td>\n",
              "      <td>0</td>\n",
              "      <td>29</td>\n",
              "      <td>0</td>\n",
              "      <td>0</td>\n",
              "      <td>0</td>\n",
              "      <td>0</td>\n",
              "      <td>0</td>\n",
              "      <td>0</td>\n",
              "      <td>0</td>\n",
              "      <td>46</td>\n",
              "      <td>0</td>\n",
              "      <td>0</td>\n",
              "      <td>0</td>\n",
              "      <td>0</td>\n",
              "      <td>0</td>\n",
              "      <td>0</td>\n",
              "      <td>111</td>\n",
              "      <td>464</td>\n",
              "      <td>0</td>\n",
              "      <td>0</td>\n",
              "      <td>0</td>\n",
              "      <td>0</td>\n",
              "      <td>0</td>\n",
              "      <td>33</td>\n",
              "      <td>0</td>\n",
              "      <td>0</td>\n",
              "      <td>0</td>\n",
              "      <td>0</td>\n",
              "      <td>142</td>\n",
              "      <td>0</td>\n",
              "      <td>0</td>\n",
              "      <td>46</td>\n",
              "      <td>0</td>\n",
              "      <td>0</td>\n",
              "      <td>0</td>\n",
              "      <td>0</td>\n",
              "      <td>0</td>\n",
              "      <td>0</td>\n",
              "    </tr>\n",
              "    <tr>\n",
              "      <th>2</th>\n",
              "      <td>11b</td>\n",
              "      <td>0</td>\n",
              "      <td>0</td>\n",
              "      <td>0</td>\n",
              "      <td>462</td>\n",
              "      <td>0</td>\n",
              "      <td>0</td>\n",
              "      <td>2</td>\n",
              "      <td>0</td>\n",
              "      <td>796</td>\n",
              "      <td>50</td>\n",
              "      <td>98</td>\n",
              "      <td>0</td>\n",
              "      <td>0</td>\n",
              "      <td>0</td>\n",
              "      <td>0</td>\n",
              "      <td>0</td>\n",
              "      <td>0</td>\n",
              "      <td>0</td>\n",
              "      <td>20</td>\n",
              "      <td>0</td>\n",
              "      <td>0</td>\n",
              "      <td>0</td>\n",
              "      <td>0</td>\n",
              "      <td>0</td>\n",
              "      <td>0</td>\n",
              "      <td>0</td>\n",
              "      <td>19</td>\n",
              "      <td>0</td>\n",
              "      <td>0</td>\n",
              "      <td>6573</td>\n",
              "      <td>0</td>\n",
              "      <td>3</td>\n",
              "      <td>0</td>\n",
              "      <td>0</td>\n",
              "      <td>0</td>\n",
              "      <td>0</td>\n",
              "      <td>8</td>\n",
              "      <td>0</td>\n",
              "      <td>0</td>\n",
              "      <td>...</td>\n",
              "      <td>0</td>\n",
              "      <td>0</td>\n",
              "      <td>0</td>\n",
              "      <td>132</td>\n",
              "      <td>0</td>\n",
              "      <td>0</td>\n",
              "      <td>0</td>\n",
              "      <td>0</td>\n",
              "      <td>10</td>\n",
              "      <td>0</td>\n",
              "      <td>0</td>\n",
              "      <td>1355</td>\n",
              "      <td>0</td>\n",
              "      <td>0</td>\n",
              "      <td>0</td>\n",
              "      <td>0</td>\n",
              "      <td>0</td>\n",
              "      <td>0</td>\n",
              "      <td>290</td>\n",
              "      <td>857</td>\n",
              "      <td>0</td>\n",
              "      <td>0</td>\n",
              "      <td>0</td>\n",
              "      <td>0</td>\n",
              "      <td>0</td>\n",
              "      <td>0</td>\n",
              "      <td>0</td>\n",
              "      <td>0</td>\n",
              "      <td>0</td>\n",
              "      <td>0</td>\n",
              "      <td>13</td>\n",
              "      <td>0</td>\n",
              "      <td>0</td>\n",
              "      <td>330</td>\n",
              "      <td>0</td>\n",
              "      <td>0</td>\n",
              "      <td>0</td>\n",
              "      <td>0</td>\n",
              "      <td>0</td>\n",
              "      <td>0</td>\n",
              "    </tr>\n",
              "    <tr>\n",
              "      <th>3</th>\n",
              "      <td>12b</td>\n",
              "      <td>387</td>\n",
              "      <td>7</td>\n",
              "      <td>0</td>\n",
              "      <td>4416</td>\n",
              "      <td>0</td>\n",
              "      <td>0</td>\n",
              "      <td>0</td>\n",
              "      <td>0</td>\n",
              "      <td>1217</td>\n",
              "      <td>350</td>\n",
              "      <td>27</td>\n",
              "      <td>0</td>\n",
              "      <td>0</td>\n",
              "      <td>40</td>\n",
              "      <td>0</td>\n",
              "      <td>0</td>\n",
              "      <td>0</td>\n",
              "      <td>0</td>\n",
              "      <td>286</td>\n",
              "      <td>99</td>\n",
              "      <td>0</td>\n",
              "      <td>53</td>\n",
              "      <td>34</td>\n",
              "      <td>7</td>\n",
              "      <td>0</td>\n",
              "      <td>0</td>\n",
              "      <td>58</td>\n",
              "      <td>0</td>\n",
              "      <td>57</td>\n",
              "      <td>9836</td>\n",
              "      <td>0</td>\n",
              "      <td>233</td>\n",
              "      <td>0</td>\n",
              "      <td>0</td>\n",
              "      <td>0</td>\n",
              "      <td>6</td>\n",
              "      <td>226</td>\n",
              "      <td>0</td>\n",
              "      <td>0</td>\n",
              "      <td>...</td>\n",
              "      <td>0</td>\n",
              "      <td>0</td>\n",
              "      <td>0</td>\n",
              "      <td>830</td>\n",
              "      <td>0</td>\n",
              "      <td>0</td>\n",
              "      <td>19</td>\n",
              "      <td>12</td>\n",
              "      <td>176</td>\n",
              "      <td>0</td>\n",
              "      <td>619</td>\n",
              "      <td>6890</td>\n",
              "      <td>0</td>\n",
              "      <td>0</td>\n",
              "      <td>0</td>\n",
              "      <td>0</td>\n",
              "      <td>0</td>\n",
              "      <td>0</td>\n",
              "      <td>12188</td>\n",
              "      <td>5744</td>\n",
              "      <td>0</td>\n",
              "      <td>0</td>\n",
              "      <td>0</td>\n",
              "      <td>0</td>\n",
              "      <td>0</td>\n",
              "      <td>187</td>\n",
              "      <td>0</td>\n",
              "      <td>98</td>\n",
              "      <td>0</td>\n",
              "      <td>0</td>\n",
              "      <td>811</td>\n",
              "      <td>0</td>\n",
              "      <td>0</td>\n",
              "      <td>87</td>\n",
              "      <td>0</td>\n",
              "      <td>0</td>\n",
              "      <td>0</td>\n",
              "      <td>0</td>\n",
              "      <td>0</td>\n",
              "      <td>11</td>\n",
              "    </tr>\n",
              "    <tr>\n",
              "      <th>4</th>\n",
              "      <td>13b</td>\n",
              "      <td>10</td>\n",
              "      <td>0</td>\n",
              "      <td>0</td>\n",
              "      <td>4869</td>\n",
              "      <td>0</td>\n",
              "      <td>0</td>\n",
              "      <td>0</td>\n",
              "      <td>0</td>\n",
              "      <td>4842</td>\n",
              "      <td>98</td>\n",
              "      <td>78</td>\n",
              "      <td>0</td>\n",
              "      <td>0</td>\n",
              "      <td>11</td>\n",
              "      <td>0</td>\n",
              "      <td>0</td>\n",
              "      <td>0</td>\n",
              "      <td>0</td>\n",
              "      <td>11</td>\n",
              "      <td>2</td>\n",
              "      <td>0</td>\n",
              "      <td>5</td>\n",
              "      <td>58</td>\n",
              "      <td>0</td>\n",
              "      <td>0</td>\n",
              "      <td>0</td>\n",
              "      <td>100</td>\n",
              "      <td>0</td>\n",
              "      <td>0</td>\n",
              "      <td>3241</td>\n",
              "      <td>0</td>\n",
              "      <td>30</td>\n",
              "      <td>0</td>\n",
              "      <td>0</td>\n",
              "      <td>0</td>\n",
              "      <td>0</td>\n",
              "      <td>13</td>\n",
              "      <td>0</td>\n",
              "      <td>0</td>\n",
              "      <td>...</td>\n",
              "      <td>0</td>\n",
              "      <td>0</td>\n",
              "      <td>0</td>\n",
              "      <td>865</td>\n",
              "      <td>0</td>\n",
              "      <td>0</td>\n",
              "      <td>0</td>\n",
              "      <td>11</td>\n",
              "      <td>2</td>\n",
              "      <td>0</td>\n",
              "      <td>0</td>\n",
              "      <td>552</td>\n",
              "      <td>0</td>\n",
              "      <td>0</td>\n",
              "      <td>0</td>\n",
              "      <td>0</td>\n",
              "      <td>0</td>\n",
              "      <td>0</td>\n",
              "      <td>2770</td>\n",
              "      <td>9139</td>\n",
              "      <td>0</td>\n",
              "      <td>0</td>\n",
              "      <td>0</td>\n",
              "      <td>0</td>\n",
              "      <td>0</td>\n",
              "      <td>179</td>\n",
              "      <td>0</td>\n",
              "      <td>0</td>\n",
              "      <td>0</td>\n",
              "      <td>0</td>\n",
              "      <td>309</td>\n",
              "      <td>0</td>\n",
              "      <td>0</td>\n",
              "      <td>287</td>\n",
              "      <td>0</td>\n",
              "      <td>0</td>\n",
              "      <td>0</td>\n",
              "      <td>0</td>\n",
              "      <td>0</td>\n",
              "      <td>0</td>\n",
              "    </tr>\n",
              "    <tr>\n",
              "      <th>...</th>\n",
              "      <td>...</td>\n",
              "      <td>...</td>\n",
              "      <td>...</td>\n",
              "      <td>...</td>\n",
              "      <td>...</td>\n",
              "      <td>...</td>\n",
              "      <td>...</td>\n",
              "      <td>...</td>\n",
              "      <td>...</td>\n",
              "      <td>...</td>\n",
              "      <td>...</td>\n",
              "      <td>...</td>\n",
              "      <td>...</td>\n",
              "      <td>...</td>\n",
              "      <td>...</td>\n",
              "      <td>...</td>\n",
              "      <td>...</td>\n",
              "      <td>...</td>\n",
              "      <td>...</td>\n",
              "      <td>...</td>\n",
              "      <td>...</td>\n",
              "      <td>...</td>\n",
              "      <td>...</td>\n",
              "      <td>...</td>\n",
              "      <td>...</td>\n",
              "      <td>...</td>\n",
              "      <td>...</td>\n",
              "      <td>...</td>\n",
              "      <td>...</td>\n",
              "      <td>...</td>\n",
              "      <td>...</td>\n",
              "      <td>...</td>\n",
              "      <td>...</td>\n",
              "      <td>...</td>\n",
              "      <td>...</td>\n",
              "      <td>...</td>\n",
              "      <td>...</td>\n",
              "      <td>...</td>\n",
              "      <td>...</td>\n",
              "      <td>...</td>\n",
              "      <td>...</td>\n",
              "      <td>...</td>\n",
              "      <td>...</td>\n",
              "      <td>...</td>\n",
              "      <td>...</td>\n",
              "      <td>...</td>\n",
              "      <td>...</td>\n",
              "      <td>...</td>\n",
              "      <td>...</td>\n",
              "      <td>...</td>\n",
              "      <td>...</td>\n",
              "      <td>...</td>\n",
              "      <td>...</td>\n",
              "      <td>...</td>\n",
              "      <td>...</td>\n",
              "      <td>...</td>\n",
              "      <td>...</td>\n",
              "      <td>...</td>\n",
              "      <td>...</td>\n",
              "      <td>...</td>\n",
              "      <td>...</td>\n",
              "      <td>...</td>\n",
              "      <td>...</td>\n",
              "      <td>...</td>\n",
              "      <td>...</td>\n",
              "      <td>...</td>\n",
              "      <td>...</td>\n",
              "      <td>...</td>\n",
              "      <td>...</td>\n",
              "      <td>...</td>\n",
              "      <td>...</td>\n",
              "      <td>...</td>\n",
              "      <td>...</td>\n",
              "      <td>...</td>\n",
              "      <td>...</td>\n",
              "      <td>...</td>\n",
              "      <td>...</td>\n",
              "      <td>...</td>\n",
              "      <td>...</td>\n",
              "      <td>...</td>\n",
              "      <td>...</td>\n",
              "    </tr>\n",
              "    <tr>\n",
              "      <th>67</th>\n",
              "      <td>80</td>\n",
              "      <td>148</td>\n",
              "      <td>7</td>\n",
              "      <td>0</td>\n",
              "      <td>899</td>\n",
              "      <td>0</td>\n",
              "      <td>5</td>\n",
              "      <td>10</td>\n",
              "      <td>0</td>\n",
              "      <td>3037</td>\n",
              "      <td>422</td>\n",
              "      <td>99</td>\n",
              "      <td>0</td>\n",
              "      <td>0</td>\n",
              "      <td>168</td>\n",
              "      <td>0</td>\n",
              "      <td>2</td>\n",
              "      <td>0</td>\n",
              "      <td>0</td>\n",
              "      <td>4039</td>\n",
              "      <td>2254</td>\n",
              "      <td>0</td>\n",
              "      <td>19</td>\n",
              "      <td>22</td>\n",
              "      <td>0</td>\n",
              "      <td>0</td>\n",
              "      <td>0</td>\n",
              "      <td>53</td>\n",
              "      <td>0</td>\n",
              "      <td>75</td>\n",
              "      <td>24899</td>\n",
              "      <td>0</td>\n",
              "      <td>290</td>\n",
              "      <td>0</td>\n",
              "      <td>0</td>\n",
              "      <td>0</td>\n",
              "      <td>23</td>\n",
              "      <td>49</td>\n",
              "      <td>0</td>\n",
              "      <td>10</td>\n",
              "      <td>...</td>\n",
              "      <td>0</td>\n",
              "      <td>0</td>\n",
              "      <td>0</td>\n",
              "      <td>59</td>\n",
              "      <td>0</td>\n",
              "      <td>0</td>\n",
              "      <td>398</td>\n",
              "      <td>3</td>\n",
              "      <td>107</td>\n",
              "      <td>0</td>\n",
              "      <td>48</td>\n",
              "      <td>9958</td>\n",
              "      <td>0</td>\n",
              "      <td>0</td>\n",
              "      <td>0</td>\n",
              "      <td>0</td>\n",
              "      <td>0</td>\n",
              "      <td>0</td>\n",
              "      <td>2273</td>\n",
              "      <td>4141</td>\n",
              "      <td>0</td>\n",
              "      <td>0</td>\n",
              "      <td>0</td>\n",
              "      <td>0</td>\n",
              "      <td>0</td>\n",
              "      <td>184</td>\n",
              "      <td>2910</td>\n",
              "      <td>0</td>\n",
              "      <td>0</td>\n",
              "      <td>0</td>\n",
              "      <td>182</td>\n",
              "      <td>0</td>\n",
              "      <td>0</td>\n",
              "      <td>208</td>\n",
              "      <td>8</td>\n",
              "      <td>0</td>\n",
              "      <td>0</td>\n",
              "      <td>0</td>\n",
              "      <td>0</td>\n",
              "      <td>16</td>\n",
              "    </tr>\n",
              "    <tr>\n",
              "      <th>68</th>\n",
              "      <td>81</td>\n",
              "      <td>2457</td>\n",
              "      <td>0</td>\n",
              "      <td>0</td>\n",
              "      <td>1260</td>\n",
              "      <td>0</td>\n",
              "      <td>3</td>\n",
              "      <td>0</td>\n",
              "      <td>0</td>\n",
              "      <td>12289</td>\n",
              "      <td>825</td>\n",
              "      <td>0</td>\n",
              "      <td>0</td>\n",
              "      <td>0</td>\n",
              "      <td>231</td>\n",
              "      <td>0</td>\n",
              "      <td>0</td>\n",
              "      <td>0</td>\n",
              "      <td>0</td>\n",
              "      <td>150</td>\n",
              "      <td>24</td>\n",
              "      <td>0</td>\n",
              "      <td>494</td>\n",
              "      <td>32</td>\n",
              "      <td>0</td>\n",
              "      <td>0</td>\n",
              "      <td>0</td>\n",
              "      <td>156</td>\n",
              "      <td>0</td>\n",
              "      <td>1</td>\n",
              "      <td>3096</td>\n",
              "      <td>0</td>\n",
              "      <td>202</td>\n",
              "      <td>0</td>\n",
              "      <td>0</td>\n",
              "      <td>0</td>\n",
              "      <td>8</td>\n",
              "      <td>34</td>\n",
              "      <td>0</td>\n",
              "      <td>0</td>\n",
              "      <td>...</td>\n",
              "      <td>0</td>\n",
              "      <td>0</td>\n",
              "      <td>0</td>\n",
              "      <td>633</td>\n",
              "      <td>0</td>\n",
              "      <td>9</td>\n",
              "      <td>14</td>\n",
              "      <td>0</td>\n",
              "      <td>0</td>\n",
              "      <td>0</td>\n",
              "      <td>0</td>\n",
              "      <td>844</td>\n",
              "      <td>0</td>\n",
              "      <td>0</td>\n",
              "      <td>0</td>\n",
              "      <td>101</td>\n",
              "      <td>0</td>\n",
              "      <td>0</td>\n",
              "      <td>4172</td>\n",
              "      <td>4560</td>\n",
              "      <td>0</td>\n",
              "      <td>0</td>\n",
              "      <td>0</td>\n",
              "      <td>0</td>\n",
              "      <td>0</td>\n",
              "      <td>151</td>\n",
              "      <td>0</td>\n",
              "      <td>6</td>\n",
              "      <td>0</td>\n",
              "      <td>0</td>\n",
              "      <td>903</td>\n",
              "      <td>0</td>\n",
              "      <td>0</td>\n",
              "      <td>381</td>\n",
              "      <td>18</td>\n",
              "      <td>0</td>\n",
              "      <td>0</td>\n",
              "      <td>0</td>\n",
              "      <td>0</td>\n",
              "      <td>19</td>\n",
              "    </tr>\n",
              "    <tr>\n",
              "      <th>69</th>\n",
              "      <td>8b</td>\n",
              "      <td>52</td>\n",
              "      <td>0</td>\n",
              "      <td>0</td>\n",
              "      <td>31</td>\n",
              "      <td>0</td>\n",
              "      <td>0</td>\n",
              "      <td>0</td>\n",
              "      <td>0</td>\n",
              "      <td>704</td>\n",
              "      <td>68</td>\n",
              "      <td>0</td>\n",
              "      <td>0</td>\n",
              "      <td>0</td>\n",
              "      <td>0</td>\n",
              "      <td>0</td>\n",
              "      <td>0</td>\n",
              "      <td>0</td>\n",
              "      <td>0</td>\n",
              "      <td>0</td>\n",
              "      <td>1448</td>\n",
              "      <td>4</td>\n",
              "      <td>0</td>\n",
              "      <td>16</td>\n",
              "      <td>2</td>\n",
              "      <td>0</td>\n",
              "      <td>0</td>\n",
              "      <td>18</td>\n",
              "      <td>0</td>\n",
              "      <td>20</td>\n",
              "      <td>15052</td>\n",
              "      <td>2</td>\n",
              "      <td>203</td>\n",
              "      <td>0</td>\n",
              "      <td>0</td>\n",
              "      <td>0</td>\n",
              "      <td>0</td>\n",
              "      <td>13</td>\n",
              "      <td>0</td>\n",
              "      <td>0</td>\n",
              "      <td>...</td>\n",
              "      <td>0</td>\n",
              "      <td>0</td>\n",
              "      <td>0</td>\n",
              "      <td>0</td>\n",
              "      <td>0</td>\n",
              "      <td>0</td>\n",
              "      <td>174</td>\n",
              "      <td>0</td>\n",
              "      <td>31</td>\n",
              "      <td>0</td>\n",
              "      <td>0</td>\n",
              "      <td>4405</td>\n",
              "      <td>0</td>\n",
              "      <td>0</td>\n",
              "      <td>0</td>\n",
              "      <td>0</td>\n",
              "      <td>0</td>\n",
              "      <td>0</td>\n",
              "      <td>250</td>\n",
              "      <td>2521</td>\n",
              "      <td>5</td>\n",
              "      <td>0</td>\n",
              "      <td>0</td>\n",
              "      <td>0</td>\n",
              "      <td>0</td>\n",
              "      <td>138</td>\n",
              "      <td>0</td>\n",
              "      <td>0</td>\n",
              "      <td>0</td>\n",
              "      <td>0</td>\n",
              "      <td>60</td>\n",
              "      <td>0</td>\n",
              "      <td>0</td>\n",
              "      <td>87</td>\n",
              "      <td>0</td>\n",
              "      <td>0</td>\n",
              "      <td>0</td>\n",
              "      <td>0</td>\n",
              "      <td>0</td>\n",
              "      <td>0</td>\n",
              "    </tr>\n",
              "    <tr>\n",
              "      <th>70</th>\n",
              "      <td>9b</td>\n",
              "      <td>0</td>\n",
              "      <td>0</td>\n",
              "      <td>0</td>\n",
              "      <td>434</td>\n",
              "      <td>0</td>\n",
              "      <td>4</td>\n",
              "      <td>0</td>\n",
              "      <td>0</td>\n",
              "      <td>5127</td>\n",
              "      <td>227</td>\n",
              "      <td>0</td>\n",
              "      <td>0</td>\n",
              "      <td>0</td>\n",
              "      <td>0</td>\n",
              "      <td>0</td>\n",
              "      <td>0</td>\n",
              "      <td>0</td>\n",
              "      <td>0</td>\n",
              "      <td>52</td>\n",
              "      <td>8</td>\n",
              "      <td>0</td>\n",
              "      <td>2</td>\n",
              "      <td>29</td>\n",
              "      <td>0</td>\n",
              "      <td>0</td>\n",
              "      <td>0</td>\n",
              "      <td>10</td>\n",
              "      <td>0</td>\n",
              "      <td>0</td>\n",
              "      <td>3365</td>\n",
              "      <td>5</td>\n",
              "      <td>111</td>\n",
              "      <td>0</td>\n",
              "      <td>0</td>\n",
              "      <td>0</td>\n",
              "      <td>0</td>\n",
              "      <td>0</td>\n",
              "      <td>0</td>\n",
              "      <td>0</td>\n",
              "      <td>...</td>\n",
              "      <td>0</td>\n",
              "      <td>0</td>\n",
              "      <td>0</td>\n",
              "      <td>697</td>\n",
              "      <td>0</td>\n",
              "      <td>14</td>\n",
              "      <td>5</td>\n",
              "      <td>2</td>\n",
              "      <td>0</td>\n",
              "      <td>0</td>\n",
              "      <td>2</td>\n",
              "      <td>128</td>\n",
              "      <td>0</td>\n",
              "      <td>0</td>\n",
              "      <td>0</td>\n",
              "      <td>0</td>\n",
              "      <td>0</td>\n",
              "      <td>0</td>\n",
              "      <td>852</td>\n",
              "      <td>1412</td>\n",
              "      <td>0</td>\n",
              "      <td>0</td>\n",
              "      <td>0</td>\n",
              "      <td>0</td>\n",
              "      <td>0</td>\n",
              "      <td>64</td>\n",
              "      <td>0</td>\n",
              "      <td>0</td>\n",
              "      <td>0</td>\n",
              "      <td>0</td>\n",
              "      <td>612</td>\n",
              "      <td>0</td>\n",
              "      <td>0</td>\n",
              "      <td>151</td>\n",
              "      <td>0</td>\n",
              "      <td>0</td>\n",
              "      <td>0</td>\n",
              "      <td>0</td>\n",
              "      <td>0</td>\n",
              "      <td>0</td>\n",
              "    </tr>\n",
              "    <tr>\n",
              "      <th>71</th>\n",
              "      <td>Unnamed: 0</td>\n",
              "      <td>1</td>\n",
              "      <td>2</td>\n",
              "      <td>3</td>\n",
              "      <td>4</td>\n",
              "      <td>5</td>\n",
              "      <td>6</td>\n",
              "      <td>7</td>\n",
              "      <td>8</td>\n",
              "      <td>9</td>\n",
              "      <td>10</td>\n",
              "      <td>11</td>\n",
              "      <td>12</td>\n",
              "      <td>13</td>\n",
              "      <td>14</td>\n",
              "      <td>15</td>\n",
              "      <td>16</td>\n",
              "      <td>17</td>\n",
              "      <td>18</td>\n",
              "      <td>19</td>\n",
              "      <td>20</td>\n",
              "      <td>21</td>\n",
              "      <td>22</td>\n",
              "      <td>23</td>\n",
              "      <td>24</td>\n",
              "      <td>25</td>\n",
              "      <td>26</td>\n",
              "      <td>27</td>\n",
              "      <td>28</td>\n",
              "      <td>29</td>\n",
              "      <td>30</td>\n",
              "      <td>31</td>\n",
              "      <td>32</td>\n",
              "      <td>33</td>\n",
              "      <td>34</td>\n",
              "      <td>35</td>\n",
              "      <td>36</td>\n",
              "      <td>37</td>\n",
              "      <td>38</td>\n",
              "      <td>39</td>\n",
              "      <td>...</td>\n",
              "      <td>49</td>\n",
              "      <td>50</td>\n",
              "      <td>51</td>\n",
              "      <td>52</td>\n",
              "      <td>53</td>\n",
              "      <td>54</td>\n",
              "      <td>55</td>\n",
              "      <td>56</td>\n",
              "      <td>57</td>\n",
              "      <td>58</td>\n",
              "      <td>59</td>\n",
              "      <td>60</td>\n",
              "      <td>61</td>\n",
              "      <td>62</td>\n",
              "      <td>63</td>\n",
              "      <td>64</td>\n",
              "      <td>65</td>\n",
              "      <td>66</td>\n",
              "      <td>67</td>\n",
              "      <td>68</td>\n",
              "      <td>70</td>\n",
              "      <td>71</td>\n",
              "      <td>72</td>\n",
              "      <td>73</td>\n",
              "      <td>74</td>\n",
              "      <td>75</td>\n",
              "      <td>76</td>\n",
              "      <td>77</td>\n",
              "      <td>78</td>\n",
              "      <td>79</td>\n",
              "      <td>80</td>\n",
              "      <td>81</td>\n",
              "      <td>82</td>\n",
              "      <td>84</td>\n",
              "      <td>85</td>\n",
              "      <td>86</td>\n",
              "      <td>87</td>\n",
              "      <td>88</td>\n",
              "      <td>69</td>\n",
              "      <td>83</td>\n",
              "    </tr>\n",
              "  </tbody>\n",
              "</table>\n",
              "<p>72 rows × 89 columns</p>\n",
              "</div>"
            ],
            "text/plain": [
              "Family       index  Acidaminococcaceae  ...  s74e-6049  vadinBE97\n",
              "0                1                   0  ...          0          0\n",
              "1              10b                   0  ...          0          0\n",
              "2              11b                   0  ...          0          0\n",
              "3              12b                 387  ...          0         11\n",
              "4              13b                  10  ...          0          0\n",
              "..             ...                 ...  ...        ...        ...\n",
              "67              80                 148  ...          0         16\n",
              "68              81                2457  ...          0         19\n",
              "69              8b                  52  ...          0          0\n",
              "70              9b                   0  ...          0          0\n",
              "71      Unnamed: 0                   1  ...         69         83\n",
              "\n",
              "[72 rows x 89 columns]"
            ]
          },
          "metadata": {
            "tags": []
          },
          "execution_count": 31
        }
      ]
    },
    {
      "cell_type": "code",
      "metadata": {
        "id": "euQ1KtS4dOKx"
      },
      "source": [
        "data_final = data_merged.merge(metagenomes, \\\n",
        "                               left_on='filename_part1', \\\n",
        "                               right_on='index', \\\n",
        "                               how = 'inner')\n"
      ],
      "execution_count": 32,
      "outputs": []
    },
    {
      "cell_type": "code",
      "metadata": {
        "id": "oPdJqiXUFJUE"
      },
      "source": [
        "data_final['female'] = pd.factorize(data_final['пол'])[0]\n",
        "data_final['answer'] = pd.factorize(data_final['Объективный ответ'])[0]\n",
        "data_final['condition'] = pd.factorize(data_final['Клиническое состояние при прогрессировании'])[0]\n",
        "data_final['new_diagnosis_label'] = pd.factorize(data_final['new_diagnosis'])[0]\n",
        "data_final['new_hysto_label'] = pd.factorize(data_final['new_hysto'])[0]"
      ],
      "execution_count": 33,
      "outputs": []
    },
    {
      "cell_type": "code",
      "metadata": {
        "id": "-HD22UMg7qxt",
        "colab": {
          "base_uri": "https://localhost:8080/"
        },
        "outputId": "97d31c96-fe35-48e3-f62a-1b14b9cd823a"
      },
      "source": [
        "data_final.isna().sum()"
      ],
      "execution_count": 34,
      "outputs": [
        {
          "output_type": "execute_result",
          "data": {
            "text/plain": [
              "Unnamed: 1                    0\n",
              "пол                           0\n",
              "Возраст                       1\n",
              "Объективный ответ             5\n",
              "Есть прогр - 1 или нет - 0    2\n",
              "                             ..\n",
              "female                        0\n",
              "answer                        0\n",
              "condition                     0\n",
              "new_diagnosis_label           0\n",
              "new_hysto_label               0\n",
              "Length: 145, dtype: int64"
            ]
          },
          "metadata": {
            "tags": []
          },
          "execution_count": 34
        }
      ]
    },
    {
      "cell_type": "code",
      "metadata": {
        "id": "kiR-wTB7iLko"
      },
      "source": [
        "data_final.to_csv('/content/drive/MyDrive/onko/data_final.csv')"
      ],
      "execution_count": 35,
      "outputs": []
    },
    {
      "cell_type": "markdown",
      "metadata": {
        "id": "KAEHDiqE2e0d"
      },
      "source": [
        "Explore data analysis: "
      ]
    },
    {
      "cell_type": "code",
      "metadata": {
        "colab": {
          "base_uri": "https://localhost:8080/",
          "height": 297
        },
        "id": "S_5BqjMmndsl",
        "outputId": "8dc039ec-b14d-41f7-d913-82d21738c689"
      },
      "source": [
        "sns.countplot(x = 'Объективный ответ', data = data_final, palette='Set2')"
      ],
      "execution_count": 39,
      "outputs": [
        {
          "output_type": "execute_result",
          "data": {
            "text/plain": [
              "<matplotlib.axes._subplots.AxesSubplot at 0x7f20a2340f90>"
            ]
          },
          "metadata": {
            "tags": []
          },
          "execution_count": 39
        },
        {
          "output_type": "display_data",
          "data": {
            "image/png": "[encoded data removed]",
            "text/plain": [
              "<Figure size 432x288 with 1 Axes>"
            ]
          },
          "metadata": {
            "tags": [],
            "needs_background": "light"
          }
        }
      ]
    },
    {
      "cell_type": "code",
      "metadata": {
        "colab": {
          "base_uri": "https://localhost:8080/",
          "height": 297
        },
        "id": "nnFpt-ven_sj",
        "outputId": "d293df77-a71f-4ee1-cc9b-f6b7a25283c0"
      },
      "source": [
        "sns.countplot(y = 'new_diagnosis', data = data_final, palette='Set2')"
      ],
      "execution_count": 40,
      "outputs": [
        {
          "output_type": "execute_result",
          "data": {
            "text/plain": [
              "<matplotlib.axes._subplots.AxesSubplot at 0x7f20a22d2150>"
            ]
          },
          "metadata": {
            "tags": []
          },
          "execution_count": 40
        },
        {
          "output_type": "display_data",
          "data": {
            "image/png": "[encoded data removed]",
            "text/plain": [
              "<Figure size 432x288 with 1 Axes>"
            ]
          },
          "metadata": {
            "tags": [],
            "needs_background": "light"
          }
        }
      ]
    },
    {
      "cell_type": "code",
      "metadata": {
        "colab": {
          "base_uri": "https://localhost:8080/",
          "height": 297
        },
        "id": "K2NXj4hYpqAZ",
        "outputId": "78688a84-4e5c-42b8-b9e5-9da76feaee80"
      },
      "source": [
        "sns.countplot(y = 'new_hysto', data = data_final, palette='Set2')"
      ],
      "execution_count": 41,
      "outputs": [
        {
          "output_type": "execute_result",
          "data": {
            "text/plain": [
              "<matplotlib.axes._subplots.AxesSubplot at 0x7f20a1d49d50>"
            ]
          },
          "metadata": {
            "tags": []
          },
          "execution_count": 41
        },
        {
          "output_type": "display_data",
          "data": {
            "image/png": "[encoded data removed]",
            "text/plain": [
              "<Figure size 432x288 with 1 Axes>"
            ]
          },
          "metadata": {
            "tags": [],
            "needs_background": "light"
          }
        }
      ]
    },
    {
      "cell_type": "code",
      "metadata": {
        "colab": {
          "base_uri": "https://localhost:8080/",
          "height": 297
        },
        "id": "fKyXgU2Eq3Fm",
        "outputId": "3d925473-b0c5-4291-8413-33038aa0195e"
      },
      "source": [
        "sns.countplot(y = 'new_treatment', data = data_final, palette='Set2')"
      ],
      "execution_count": 42,
      "outputs": [
        {
          "output_type": "execute_result",
          "data": {
            "text/plain": [
              "<matplotlib.axes._subplots.AxesSubplot at 0x7f20a1d57f10>"
            ]
          },
          "metadata": {
            "tags": []
          },
          "execution_count": 42
        },
        {
          "output_type": "display_data",
          "data": {
            "image/png": "[encoded data removed]",
            "text/plain": [
              "<Figure size 432x288 with 1 Axes>"
            ]
          },
          "metadata": {
            "tags": [],
            "needs_background": "light"
          }
        }
      ]
    },
    {
      "cell_type": "code",
      "metadata": {
        "colab": {
          "base_uri": "https://localhost:8080/"
        },
        "id": "TG24uXZ8bS5D",
        "outputId": "ca8e09af-27e9-4613-caeb-e57713a561aa"
      },
      "source": [
        "data_final['Есть прогр - 1 или нет - 0'].value_counts(dropna = False)"
      ],
      "execution_count": 43,
      "outputs": [
        {
          "output_type": "execute_result",
          "data": {
            "text/plain": [
              "0.0    46\n",
              "1.0    22\n",
              "NaN     2\n",
              "Name: Есть прогр - 1 или нет - 0, dtype: int64"
            ]
          },
          "metadata": {
            "tags": []
          },
          "execution_count": 43
        }
      ]
    },
    {
      "cell_type": "code",
      "metadata": {
        "colab": {
          "base_uri": "https://localhost:8080/"
        },
        "id": "-6jAbhFfbu0I",
        "outputId": "eb40026d-1351-4a99-a905-fec4c974bba3"
      },
      "source": [
        "data_final['Клиническое состояние при прогрессировании'].value_counts(dropna = False)"
      ],
      "execution_count": 44,
      "outputs": [
        {
          "output_type": "execute_result",
          "data": {
            "text/plain": [
              "NaN             27\n",
              "без динамики    26\n",
              "ухудшение        9\n",
              "улучшение        8\n",
              "Name: Клиническое состояние при прогрессировании, dtype: int64"
            ]
          },
          "metadata": {
            "tags": []
          },
          "execution_count": 44
        }
      ]
    },
    {
      "cell_type": "code",
      "metadata": {
        "colab": {
          "base_uri": "https://localhost:8080/"
        },
        "id": "YI4mLNM9hky0",
        "outputId": "f769b655-edb7-4130-d09e-50888d2ec53f"
      },
      "source": [
        "data_final['Объективный ответ'].value_counts(dropna = False)"
      ],
      "execution_count": 45,
      "outputs": [
        {
          "output_type": "execute_result",
          "data": {
            "text/plain": [
              "PR     26\n",
              "SD     23\n",
              "PD     14\n",
              "NaN     5\n",
              "CR      2\n",
              "Name: Объективный ответ, dtype: int64"
            ]
          },
          "metadata": {
            "tags": []
          },
          "execution_count": 45
        }
      ]
    },
    {
      "cell_type": "code",
      "metadata": {
        "colab": {
          "base_uri": "https://localhost:8080/",
          "height": 279
        },
        "id": "tCl69SlQ3QL-",
        "outputId": "a7c27b55-abef-43af-bdcf-96cfe3cad50c"
      },
      "source": [
        "ax = data_final[\"Возраст\"].hist( density=True,  color='teal', alpha=0.7)\n",
        "data_final[\"Возраст\"].plot(kind='density', color='teal')\n",
        "ax.set(xlabel='Возраст')\n",
        "plt.xlim(20,100)\n",
        "plt.show()"
      ],
      "execution_count": 46,
      "outputs": [
        {
          "output_type": "display_data",
          "data": {
            "image/png": "[encoded data removed]",
            "text/plain": [
              "<Figure size 432x288 with 1 Axes>"
            ]
          },
          "metadata": {
            "tags": [],
            "needs_background": "light"
          }
        }
      ]
    }
  ]
}